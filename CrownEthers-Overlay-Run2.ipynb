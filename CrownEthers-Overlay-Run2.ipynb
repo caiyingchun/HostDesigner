{
 "cells": [
  {
   "cell_type": "markdown",
   "metadata": {},
   "source": [
    "### HostDesigner Crown Ether Trials\n",
    "\n",
    "#### Starting with CH3 - O as input to discover various crown ethers\n",
    "\n",
    "1. Run1 -> CH3O + CH3O -> C4H8O2 (604hdo.xyz)\n",
    "\n",
    "\n",
    "#### 12-Crown-4\n",
    "\n",
    "1. Drive C4H802 to change C-O-C bond angle -> C4H8O2-D\n",
    "2. Remove CH3 groups from C4H8O2-D -> C2H2O2\n",
    "3. Adjust Li ion position -> C2H2O2-Li\n",
    "4. LINKER: C2H2O2-Li + C2H2O2-Li -> 12-Crown-4 (Hopefully)\n",
    "\n",
    "#### 18-Crown-6\n",
    "\n",
    "1. Drive C4H802 to change C-O-C bond angle -> C4H8O2-D\n",
    "2. Adjust Li ion position for first LINKER run -> C4H8O2-D-Li\n",
    "3. LINKER: C4H8O2-D-Li + CH3O -> C6H14O3\n",
    "4. Remove CH3 groups from C6H14O3 -> C4H8O3\n",
    "5. Adjust Li ion position -> C4H8O3-Li\n",
    "6. LINKER: C4H8O3-Li + C4H8O3-Li -> 18-Crown-6 (Hopefully)"
   ]
  },
  {
   "cell_type": "code",
   "execution_count": 15,
   "metadata": {
    "collapsed": false
   },
   "outputs": [],
   "source": [
    "import os\n",
    "\n",
    "from hostdesigner import host_export, linker_export, drive_export, hdo_read, hdo_export, drive_read, hdo_linker\n",
    "from hostdesigner import angle_between\n",
    "\n",
    "main_dir = os.getcwd()\n",
    "\n",
    "overlay_dir = os.path.join(main_dir, 'results', 'crown', 'overlay')\n",
    "overlay2_dir = os.path.join(overlay_dir, 'run3')\n",
    "\n",
    "overlay_out_dir = os.path.join(overlay_dir, 'out')"
   ]
  },
  {
   "cell_type": "code",
   "execution_count": 16,
   "metadata": {
    "collapsed": false
   },
   "outputs": [
    {
     "name": "stdout",
     "output_type": "stream",
     "text": [
      "  Energy    Structure    Num Atoms  Linker                            RMSD\n",
      "--------  -----------  -----------  ------------------------------  ------\n",
      "   0.93             0           42  propane                          0.061\n",
      "   0.93             1           48  isopentane                       0.068\n",
      "   1.709            2           39  ethane                           0.069\n",
      "   1.704            3           42  propane                          0.07\n",
      "   0.93             4           45  isobutane                        0.07\n",
      "   1.257            5           45  butane                           0.072\n",
      "   0.62             6           51  bicyclo[3.2.1]octene             0.085\n",
      "   0.62             7           54  bicyclo[3.2.1]oct-5-ylidine      0.096\n",
      "   1.08             8           50  cis-3,5-dimethylcyclopentene     0.099\n",
      "   0.62             9           51  bicyclo[2.2.1]hept-2-ylidine     0.099\n",
      "   0.62            10           46  bicyclo[2.2.1]heptadiene         0.103\n",
      "   0.62            11           48  bicyclo[2.2.1]heptene            0.104\n",
      "   0.626           12           47  3-methylcyclopentene             0.106\n",
      "   0.62            13           50  trans-3,5-dimethylcyclopentene   0.107\n",
      "   0.93            14           47  cis,cis-2,4-hexadiene            0.107\n",
      "   0.62            15           50  bicyclo[2.2.1]heptane            0.108\n",
      "   0.791           16           44  cyclopentene                     0.109\n",
      "   0.62            17           49  methylcyclopentane               0.109\n",
      "   0.713           18           47  3-methylcyclopentene             0.11\n",
      "   0.62            19           51  bicyclo[2.2.1]hept-2-ylidine     0.11\n",
      "   0.62            20           47  3-methylcyclopentene             0.111\n",
      "   0.62            21           48  bicyclo[2.2.1]heptene            0.111\n",
      "   0.62            22           50  3,3-dimethylcyclopentene         0.111\n",
      "   1.627           23           50  trans-3,4-dimethylcyclopentene   0.119\n",
      "   1.606           24           50  trans-3,4-dimethylcyclopentene   0.126\n",
      "   0.62            25           52  trans-1,2-dimethylcyclopentane   0.127\n",
      "   0.62            26           50  indane                           0.129\n",
      "   0.62            27           57  hexahydroindacene                0.129\n",
      "   1.933           28           50  cis-3,4-dimethylcyclopentene     0.131\n",
      "   0.62            29           48  bicyclo[2.2.1]heptene            0.134\n",
      "   0.62            30           47  3-methylcyclopentene             0.135\n",
      "   0.62            31           47  3-methylcyclopentene             0.137\n",
      "   0.62            32           51  bicyclo[2.2.1]hept-2-ylidine     0.137\n",
      "   0.62            33           44  cyclopentene                     0.141\n",
      "   0.62            34           47  1-methylcyclopentene             0.141\n",
      "   0.62            35           47  3-methylcyclopentene             0.149\n",
      "   0.62            36           50  trans-3,4-dimethylcyclopentene   0.164\n",
      "   0.62            37           49  methylcyclopentane               0.166\n",
      "   0.62            38           48  bicyclo[2.2.1]heptene            0.178\n",
      "   0.62            39           46  bicyclo[2.2.1]heptadiene         0.182\n",
      "   0.62            40           52  cis-1,2-dimethylcyclopentane     0.202\n",
      "   0.62            41           53  trans-bicyclo[3.3.0]octane       0.205\n",
      "   0.62            42           51  bicyclo[3.2.1]octene             0.231\n",
      "   0.62            43           48  1,5-dimethylcyclopentadiene      0.25\n",
      "   0.62            44           45  5-methylcyclopentadiene          0.25\n",
      "   0.62            45           48  5,5-dimethylcyclopentadiene      0.251\n",
      "   0.62            46           42  cyclopentadiene                  0.253\n",
      "   0.62            47           45  1-methylcyclopentadiene          0.253\n",
      "   1.315           48           53  cis-bicyclo[3.3.0]octane         0.285\n",
      "   0.93            49           44  cis-1,3-pentadiene               0.365\n",
      "  Energy    Structure    Num Atoms  Linker      RMSD\n",
      "--------  -----------  -----------  --------  ------\n",
      "   1.709            2           39  ethane     0.069\n"
     ]
    }
   ],
   "source": [
    "# RUN 3 (CONTROL: LINKER, drivea, driveb, useclass, maxconn=2, numview=1000)\n",
    "# Look at 147, 258, 503!\n",
    "\n",
    "hdo_structures = hdo_read(overlay2_dir, num='all', table=True)\n",
    "\n",
    "export_info = [True, overlay_out_dir, 'xyz']\n",
    "\n",
    "linker_structures = hdo_linker(hdo_structures, ['ethane'], export=export_info)"
   ]
  },
  {
   "cell_type": "code",
   "execution_count": 17,
   "metadata": {
    "collapsed": false
   },
   "outputs": [],
   "source": [
    "hdo_export(hdo_structures, 2, overlay_out_dir, name='hosta', exp_format='host')"
   ]
  },
  {
   "cell_type": "code",
   "execution_count": null,
   "metadata": {
    "collapsed": false
   },
   "outputs": [],
   "source": [
    "host_export(run3_dir, run3_out_dir, host='44hosta')"
   ]
  },
  {
   "cell_type": "code",
   "execution_count": null,
   "metadata": {
    "collapsed": true
   },
   "outputs": [],
   "source": []
  }
 ],
 "metadata": {
  "kernelspec": {
   "display_name": "Python 3",
   "language": "python",
   "name": "python3"
  },
  "language_info": {
   "codemirror_mode": {
    "name": "ipython",
    "version": 3
   },
   "file_extension": ".py",
   "mimetype": "text/x-python",
   "name": "python",
   "nbconvert_exporter": "python",
   "pygments_lexer": "ipython3",
   "version": "3.5.1"
  }
 },
 "nbformat": 4,
 "nbformat_minor": 0
}
