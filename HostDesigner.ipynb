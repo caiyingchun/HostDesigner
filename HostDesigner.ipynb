{
 "cells": [
  {
   "cell_type": "code",
   "execution_count": null,
   "metadata": {
    "collapsed": true
   },
   "outputs": [],
   "source": [
    "import os\n",
    "\n",
    "main_dir = os.getcwd()\n",
    "hd_dir = os.path.join(main_dir, 'HD_3.0')\n",
    "examples_dir = os.path.join(hd_dir, '03_Examples')\n",
    "case1_dir = os.path.join(examples_dir, 'case1')\n",
    "export_dir = os.path.join(main_dir, 'results')"
   ]
  },
  {
   "cell_type": "code",
   "execution_count": null,
   "metadata": {
    "collapsed": false
   },
   "outputs": [],
   "source": [
    "def host_export(host_path, export_dir):\n",
    "    \"\"\"\n",
    "    Convert host structure file to xyz format.\n",
    "    \"\"\"\n",
    "    host_file = open(host_path, 'r')\n",
    "    host_lines = host_file.readlines()\n",
    "    host_file.close()\n",
    "    num_atoms = host_lines[1].split()[0]\n",
    "    \n",
    "    xyz_lines = ''\n",
    "    for line in host_lines[2:2+int(num_atoms)]:\n",
    "        name = line.split()[0]\n",
    "        x, y, z = line.split()[2], line.split()[3], line.split()[4]\n",
    "        xyz_lines += name + '\\t' + x + '\\t' + y + '\\t' + z + '\\n'\n",
    "        \n",
    "    host_name = os.path.basename(host_path)     \n",
    "    xyz_path = os.path.join(export_dir, host_name + '.xyz')\n",
    "    xyz_file = open(xyz_path, 'w')\n",
    "    xyz_file.write(num_atoms + '\\n')\n",
    "    xyz_file.write(host_name + '\\n')\n",
    "    xyz_file.write(xyz_lines)\n",
    "    xyz_file.close()\n",
    "    \n",
    "def hdo_export(hdo_path, export_dir, num=5):\n",
    "    \"\"\"\n",
    "    Export a given number of structures with lowest RMSD values from hdo.out file. \n",
    "    \"\"\"\n",
    "    hdo_file = open(hdo_path, 'r')\n",
    "    hdo_lines = hdo_file.readlines()\n",
    "    hdo_file.close()\n",
    "\n",
    "    num_structures = 0\n",
    "    hdo_structures = {'rmsd': [], 'energy': [], 'num_atoms': [], 'start': [], 'end': []}\n",
    "    for line_index, line in enumerate(hdo_lines):\n",
    "        if line.replace(' ', '').strip('\\n').isdigit():\n",
    "            hdo_structures['num_atoms'].append(int(line.replace(' ', '').strip('\\n')))    \n",
    "        if 'RMSD' in line:\n",
    "            hdo_structures['rmsd'].append(float(line.split(',')[0].split('=')[-1]))\n",
    "            hdo_structures['energy'].append(float(line.split(',')[2].split('_')[1]))\n",
    "            hdo_structures['start'].append(line_index)\n",
    "            num_structures += 1 \n",
    "\n",
    "    start_line = 2\n",
    "    for structure in range(num):\n",
    "        xyz_lines = str(hdo_structures['num_atoms'][structure]) + '\\n'\n",
    "        xyz_lines += str(structure+1) + '_' + str(hdo_structures['rmsd'][structure]) + '\\n'\n",
    "\n",
    "        end_line = start_line + hdo_structures['num_atoms'][structure] \n",
    "        for line in hdo_lines[start_line:end_line]:\n",
    "            name, x, y, z = line.split()[0], line.split()[1], line.split()[2], line.split()[3]\n",
    "            xyz_lines += name + '\\t' + x + '\\t' + y + '\\t' + z + '\\n'\n",
    "\n",
    "        xyz_path = os.path.join(export_dir, str(structure+1) + '.xyz')\n",
    "        xyz_file = open(xyz_path, 'w')\n",
    "        xyz_file.write(xyz_lines)\n",
    "        xyz_file.close()\n",
    "\n",
    "        start_line += hdo_structures['num_atoms'][structure] + 2"
   ]
  },
  {
   "cell_type": "code",
   "execution_count": null,
   "metadata": {
    "collapsed": false
   },
   "outputs": [],
   "source": [
    "hosta_dir = os.path.join(case1_dir, 'hosta')\n",
    "\n",
    "host_export(hosta_dir, export_dir)"
   ]
  },
  {
   "cell_type": "code",
   "execution_count": null,
   "metadata": {
    "collapsed": false
   },
   "outputs": [],
   "source": [
    "hdo_path = os.path.join(case1_dir, 'out_1.hdo')\n",
    "\n",
    "hdo_export(hdo_path, export_dir, num=15)"
   ]
  },
  {
   "cell_type": "code",
   "execution_count": null,
   "metadata": {
    "collapsed": false,
    "scrolled": true
   },
   "outputs": [],
   "source": []
  },
  {
   "cell_type": "code",
   "execution_count": null,
   "metadata": {
    "collapsed": false
   },
   "outputs": [],
   "source": []
  },
  {
   "cell_type": "code",
   "execution_count": null,
   "metadata": {
    "collapsed": true
   },
   "outputs": [],
   "source": []
  }
 ],
 "metadata": {
  "kernelspec": {
   "display_name": "Python 3",
   "language": "python",
   "name": "python3"
  },
  "language_info": {
   "codemirror_mode": {
    "name": "ipython",
    "version": 3
   },
   "file_extension": ".py",
   "mimetype": "text/x-python",
   "name": "python",
   "nbconvert_exporter": "python",
   "pygments_lexer": "ipython3",
   "version": "3.5.1"
  }
 },
 "nbformat": 4,
 "nbformat_minor": 0
}
