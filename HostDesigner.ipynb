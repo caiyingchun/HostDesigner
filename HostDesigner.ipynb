{
 "cells": [
  {
   "cell_type": "code",
   "execution_count": 2,
   "metadata": {
    "collapsed": true
   },
   "outputs": [],
   "source": [
    "import os\n",
    "\n",
    "from hostdesigner import host_export, linker_export\n",
    "\n",
    "main_dir = os.getcwd()\n",
    "hd_dir = os.path.join(main_dir, 'HD_3.0')\n",
    "examples_dir = os.path.join(hd_dir, '03_Examples')\n",
    "\n",
    "export_dir = os.path.join(main_dir, 'results')"
   ]
  },
  {
   "cell_type": "code",
   "execution_count": null,
   "metadata": {
    "collapsed": true
   },
   "outputs": [],
   "source": [
    "case1_dir = os.path.join(examples_dir, 'case1')\n",
    "hosta_dir = os.path.join(case1_dir, 'hosta')\n",
    "\n",
    "host_export(hosta_dir, export_dir)"
   ]
  },
  {
   "cell_type": "code",
   "execution_count": 3,
   "metadata": {
    "collapsed": false
   },
   "outputs": [],
   "source": [
    "case2_dir = os.path.join(examples_dir, 'case2')\n",
    "lilig_dir = os.path.join(case2_dir, 'Li_lig')\n",
    "\n",
    "host_export(lilig_dir, export_dir)"
   ]
  },
  {
   "cell_type": "code",
   "execution_count": 4,
   "metadata": {
    "collapsed": false
   },
   "outputs": [],
   "source": [
    "case3_dir = os.path.join(examples_dir, 'case3')\n",
    "urea1_dir = os.path.join(case3_dir, 'urea1')\n",
    "urea2_dir = os.path.join(case3_dir, 'urea2')\n",
    "\n",
    "host_export(urea1_dir, export_dir)\n",
    "host_export(urea2_dir, export_dir)"
   ]
  },
  {
   "cell_type": "code",
   "execution_count": 5,
   "metadata": {
    "collapsed": true
   },
   "outputs": [],
   "source": [
    "case5_dir = os.path.join(examples_dir, 'case5')\n",
    "over1_dir = os.path.join(case5_dir, 'over1')\n",
    "\n",
    "host_export(over1_dir, export_dir)"
   ]
  },
  {
   "cell_type": "code",
   "execution_count": 6,
   "metadata": {
    "collapsed": false
   },
   "outputs": [],
   "source": [
    "case6_dir = os.path.join(examples_dir, 'case6')\n",
    "over2_dir = os.path.join(case6_dir, 'over2')\n",
    "\n",
    "host_export(over2_dir, export_dir)"
   ]
  },
  {
   "cell_type": "code",
   "execution_count": 7,
   "metadata": {
    "collapsed": false,
    "scrolled": true
   },
   "outputs": [],
   "source": [
    "case7_dir = os.path.join(examples_dir, 'case7')\n",
    "tetrainp_dir = os.path.join(case7_dir, 'tetra_inp')\n",
    "\n",
    "host_export(tetrainp_dir, export_dir)"
   ]
  },
  {
   "cell_type": "code",
   "execution_count": 8,
   "metadata": {
    "collapsed": false
   },
   "outputs": [],
   "source": [
    "case8_dir = os.path.join(examples_dir, 'case8')\n",
    "ureamacro_dir = os.path.join(case8_dir, 'urea_macro')\n",
    "\n",
    "host_export(ureamacro_dir, export_dir)"
   ]
  },
  {
   "cell_type": "code",
   "execution_count": null,
   "metadata": {
    "collapsed": true
   },
   "outputs": [],
   "source": [
    "linker_path = os.path.join(case1_dir, 'out_1.hdo')\n",
    "\n",
    "linker_export(linker_path, export_dir, num=15)"
   ]
  }
 ],
 "metadata": {
  "kernelspec": {
   "display_name": "Python 3",
   "language": "python",
   "name": "python3"
  },
  "language_info": {
   "codemirror_mode": {
    "name": "ipython",
    "version": 3
   },
   "file_extension": ".py",
   "mimetype": "text/x-python",
   "name": "python",
   "nbconvert_exporter": "python",
   "pygments_lexer": "ipython3",
   "version": "3.5.1"
  }
 },
 "nbformat": 4,
 "nbformat_minor": 0
}
