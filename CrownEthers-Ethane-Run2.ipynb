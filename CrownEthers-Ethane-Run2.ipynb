{
 "cells": [
  {
   "cell_type": "markdown",
   "metadata": {},
   "source": [
    "### HostDesigner Crown Ether Trials\n",
    "\n",
    "#### Starting with CH3 - O as input to discover various crown ethers\n",
    "\n",
    "1. Run1 -> CH3O + CH3O -> C4H8O2 (604hdo.xyz)\n",
    "\n",
    "\n",
    "#### 12-Crown-4\n",
    "\n",
    "1. Drive C4H802 to change C-O-C bond angle -> C4H8O2-D\n",
    "2. Remove CH3 groups from C4H8O2-D -> C2H2O2\n",
    "3. Adjust Li ion position -> C2H2O2-Li\n",
    "4. LINKER: C2H2O2-Li + C2H2O2-Li -> 12-Crown-4 (Hopefully)\n",
    "\n",
    "#### 18-Crown-6\n",
    "\n",
    "1. Drive C4H802 to change C-O-C bond angle -> C4H8O2-D\n",
    "2. Adjust Li ion position for first LINKER run -> C4H8O2-D-Li\n",
    "3. LINKER: C4H8O2-D-Li + CH3O -> C6H14O3\n",
    "4. Remove CH3 groups from C6H14O3 -> C4H8O3\n",
    "5. Adjust Li ion position -> C4H8O3-Li\n",
    "6. LINKER: C4H8O3-Li + C4H8O3-Li -> 18-Crown-6 (Hopefully)"
   ]
  },
  {
   "cell_type": "code",
   "execution_count": 1,
   "metadata": {
    "collapsed": false
   },
   "outputs": [],
   "source": [
    "import os\n",
    "\n",
    "from hostdesigner import host_export, linker_export, drive_export, hdo_read, hdo_export, drive_read, hdo_linker\n",
    "from hostdesigner import angle_between\n",
    "\n",
    "main_dir = os.getcwd()\n",
    "\n",
    "ethane_dir = os.path.join(main_dir, 'results', 'crown', 'ethane')\n",
    "\n",
    "run2_dir = os.path.join(ethane_dir, 'run2')\n",
    "run2_out_dir = os.path.join(run2_dir, 'out')"
   ]
  },
  {
   "cell_type": "code",
   "execution_count": 2,
   "metadata": {
    "collapsed": false
   },
   "outputs": [
    {
     "name": "stdout",
     "output_type": "stream",
     "text": [
      "  Structure  Linker      Energy    RMSD    Num Atoms\n",
      "-----------  --------  --------  ------  -----------\n",
      "         25  ethane       0.62    2.373           32\n",
      "         26  ethane       0.62    2.393           32\n",
      "         44  ethane       3.239   2.788           32\n",
      "         45  ethane       3.239   2.818           32\n",
      "         46  ethane       3.239   2.865           32\n",
      "         82  ethane       1.709   3.411           32\n",
      "         86  ethane       1.709   3.465           32\n",
      "         92  ethane       1.709   3.519           32\n",
      "        143  ethane       0.62    4.323           32\n",
      "        145  ethane       0.62    4.339           32\n",
      "        160  ethane       4.769   4.577           32\n",
      "        163  ethane       4.769   4.633           32\n",
      "        172  ethane       2.81    4.994           32\n",
      "        193  ethane       4.769   5.51            32\n",
      "        198  ethane       4.769   5.547           32\n",
      "        252  ethane       2.46    6.226           32\n",
      "        254  ethane       2.46    6.249           32\n",
      "        259  ethane       2.81    6.266           32\n",
      "        263  ethane       2.81    6.283           32\n",
      "        288  ethane       0.93    6.405           32\n",
      "        290  ethane       3.99    6.407           32\n",
      "        342  ethane       3.99    7.363           32\n"
     ]
    }
   ],
   "source": [
    "# RUN 2 (CONTROL: LINKER, drivea, driveb, useclass, maxconn=2, numview=1000)\n",
    "\n",
    "hdo_structures = hdo_read(run2_dir, num='all', table=False)\n",
    "\n",
    "export_info = [False, run2_out_dir, 'xyz']\n",
    "\n",
    "linker_structures = hdo_linker(hdo_structures, ['ethane'], export=export_info)"
   ]
  },
  {
   "cell_type": "code",
   "execution_count": null,
   "metadata": {
    "collapsed": false
   },
   "outputs": [],
   "source": [
    "# 12-crown-4\n",
    "C1 = [7.433, 1.084, 6.204]\n",
    "C2 = [9.307, 0.211, 7.455]\n",
    "C0 = [8.423, 1.266, 7.288]\n",
    "print('12-crown-4   C-O-C angle:', angle_between(C1, C0, C2))\n",
    "\n",
    "# 18-crown-6\n",
    "C1 = [4.314, 6.936, 8.228]\n",
    "C2 = [2.939, 5.039, 7.752]\n",
    "C0 = [4.115, 5.763, 7.438]\n",
    "print('18-crown-6   C-O-C angle:', angle_between(C1, C0, C2))\n",
    "\n",
    "C1 = linker_structures['coor'][0][1]\n",
    "O = linker_structures['coor'][0][0]\n",
    "C2 = linker_structures['coor'][0][6]\n",
    "\n",
    "print('First C-O-C angle:', angle_between(C1, O ,C2))\n",
    "\n",
    "C1 = linker_structures['coor'][0][7]\n",
    "O = linker_structures['coor'][0][12]\n",
    "C2 = linker_structures['coor'][0][13]\n",
    "\n",
    "print('Second C-O-C angle:', angle_between(C1, O ,C2))"
   ]
  },
  {
   "cell_type": "code",
   "execution_count": 6,
   "metadata": {
    "collapsed": false
   },
   "outputs": [],
   "source": [
    "# Export output structure in host format\n",
    "# host_export(run2_dir, run2_out_dir)\n",
    "\n",
    "hdo_export(hdo_structures, 44, run2_out_dir, name='hosta', exp_format='host')"
   ]
  },
  {
   "cell_type": "code",
   "execution_count": 7,
   "metadata": {
    "collapsed": false
   },
   "outputs": [],
   "source": [
    "host_export(run2_dir, run2_out_dir)"
   ]
  },
  {
   "cell_type": "code",
   "execution_count": null,
   "metadata": {
    "collapsed": true
   },
   "outputs": [],
   "source": []
  }
 ],
 "metadata": {
  "kernelspec": {
   "display_name": "Python 3",
   "language": "python",
   "name": "python3"
  },
  "language_info": {
   "codemirror_mode": {
    "name": "ipython",
    "version": 3
   },
   "file_extension": ".py",
   "mimetype": "text/x-python",
   "name": "python",
   "nbconvert_exporter": "python",
   "pygments_lexer": "ipython3",
   "version": "3.5.1"
  }
 },
 "nbformat": 4,
 "nbformat_minor": 0
}
