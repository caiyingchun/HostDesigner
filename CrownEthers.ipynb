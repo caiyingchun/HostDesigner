{
 "cells": [
  {
   "cell_type": "markdown",
   "metadata": {},
   "source": [
    "### HostDesigner Crown Ether Trials\n",
    "\n",
    "#### Starting with CH3 - O as input to discover various crown ethers\n",
    "\n",
    "1. Run1 -> CH3O + CH3O -> C4H8O2 (604hdo.xyz)\n",
    "\n",
    "\n",
    "#### 12-Crown-4\n",
    "\n",
    "1. Drive C4H802 to change C-O-C bond angle -> C4H8O2-D\n",
    "2. Remove CH3 groups from C4H8O2-D -> C2H2O2\n",
    "3. Adjust Li ion position -> C2H2O2-Li\n",
    "4. LINKER: C2H2O2-Li + C2H2O2-Li -> 12-Crown-4 (Hopefully)\n",
    "\n",
    "#### 18-Crown-6\n",
    "\n",
    "1. Drive C4H802 to change C-O-C bond angle -> C4H8O2-D\n",
    "2. Adjust Li ion position for first LINKER run -> C4H8O2-D-Li\n",
    "3. LINKER: C4H8O2-D-Li + CH3O -> C6H14O3\n",
    "4. Remove CH3 groups from C6H14O3 -> C4H8O3\n",
    "5. Adjust Li ion position -> C4H8O3-Li\n",
    "6. LINKER: C4H8O3-Li + C4H8O3-Li -> 18-Crown-6 (Hopefully)"
   ]
  },
  {
   "cell_type": "code",
   "execution_count": 1,
   "metadata": {
    "collapsed": true
   },
   "outputs": [],
   "source": [
    "import os\n",
    "\n",
    "from hostdesigner import host_export, linker_export, drive_export, hdo_read, hdo_export\n",
    "\n",
    "main_dir = os.getcwd()\n",
    "\n",
    "results_dir = os.path.join(main_dir, 'results')\n",
    "crown_dir = os.path.join(results_dir, 'crown')\n",
    "\n",
    "run1_dir = os.path.join(crown_dir, 'run1')\n",
    "c12_dir = os.path.join(crown_dir, '12-crown-4')\n",
    "c18_dir = os.path.join(crown_dir, '18-crown-6')\n",
    "\n",
    "#os.makedirs(crown_dir, exist_ok=True)"
   ]
  },
  {
   "cell_type": "code",
   "execution_count": 2,
   "metadata": {
    "collapsed": false
   },
   "outputs": [
    {
     "name": "stdout",
     "output_type": "stream",
     "text": [
      "  RMSD    Energy    Num Atoms  Linker                          Structure\n",
      "------  --------  -----------  ----------------------------  -----------\n",
      " 0.034     2.232           28  cis-3-hexene                            0\n",
      " 0.05      0.62            29  bicyclo[2.2.1]heptane                   1\n",
      " 0.056     0.62            30  bicyclo[2.2.1]hept-2-ylidine            2\n",
      " 0.1       0.62            35  bicyclo[3.3.1]nonane                    3\n",
      " 0.13      0.62            36  bicyclo[3.3.1]non-3-ylidine             4\n",
      " 0.175     0.62            36  adamantane                              5\n",
      " 0.305     0.62            38  trans-bicyclo[4.4.0]decane              6\n",
      " 0.342     0.62            32  trans-bicyclo[3.3.0]octane              7\n",
      " 0.351     0.62            24  cyclopenten-5-ylidine                   8\n",
      " 0.361     4.223           27  isopentane                              9\n"
     ]
    }
   ],
   "source": [
    "# RUN 1\n",
    "\n",
    "hdo_structures = hdo_read(run1_dir, num=10, table=True)"
   ]
  },
  {
   "cell_type": "code",
   "execution_count": null,
   "metadata": {
    "collapsed": true
   },
   "outputs": [],
   "source": [
    "# 12-Crown-4 Trials\n",
    "\n",
    "hdo_structures = hdo_read(c12_dir, num='all', table=False)"
   ]
  },
  {
   "cell_type": "code",
   "execution_count": null,
   "metadata": {
    "collapsed": false
   },
   "outputs": [],
   "source": [
    "# 18-Crown-6 Trials\n",
    "\n",
    "hdo_structures = hdo_read(c18_dir, num='all', table=False)"
   ]
  },
  {
   "cell_type": "code",
   "execution_count": null,
   "metadata": {
    "collapsed": false
   },
   "outputs": [],
   "source": [
    "# Export structure\n",
    "hdo_export(hdo_structures, 604, crown_dir)\n",
    "\n",
    "# Export host to xyz\n",
    "# Make the file name optional with default hosta\n",
    "host_export(os.path.join(crown_dir, 'hosta'), crown_dir)\n",
    "\n",
    "# Structure with minimum number of atoms\n",
    "min_atom_index = hdo_structures['num_atoms'].index(min(hdo_structures['num_atoms']))\n",
    "\n",
    "# Find structure according to linker\n",
    "linker_index = hdo_structures['linker'].index('ethane')"
   ]
  },
  {
   "cell_type": "code",
   "execution_count": null,
   "metadata": {
    "collapsed": false
   },
   "outputs": [],
   "source": []
  },
  {
   "cell_type": "code",
   "execution_count": null,
   "metadata": {
    "collapsed": true
   },
   "outputs": [],
   "source": []
  }
 ],
 "metadata": {
  "kernelspec": {
   "display_name": "Python 3",
   "language": "python",
   "name": "python3"
  },
  "language_info": {
   "codemirror_mode": {
    "name": "ipython",
    "version": 3
   },
   "file_extension": ".py",
   "mimetype": "text/x-python",
   "name": "python",
   "nbconvert_exporter": "python",
   "pygments_lexer": "ipython3",
   "version": "3.5.1"
  }
 },
 "nbformat": 4,
 "nbformat_minor": 0
}
