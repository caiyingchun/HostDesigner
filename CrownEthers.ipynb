{
 "cells": [
  {
   "cell_type": "markdown",
   "metadata": {},
   "source": [
    "### HostDesigner Crown Ether Trials\n",
    "\n",
    "#### Starting with CH3 - O as input to discover various crown ethers\n",
    "\n",
    "1. Run1 -> CH3O + CH3O -> C4H8O2 (604hdo.xyz)\n",
    "\n",
    "\n",
    "#### 12-Crown-4\n",
    "\n",
    "1. Drive C4H802 to change C-O-C bond angle -> C4H8O2-D\n",
    "2. Remove CH3 groups from C4H8O2-D -> C2H2O2\n",
    "3. Adjust Li ion position -> C2H2O2-Li\n",
    "4. LINKER: C2H2O2-Li + C2H2O2-Li -> 12-Crown-4 (Hopefully)\n",
    "\n",
    "#### 18-Crown-6\n",
    "\n",
    "1. Drive C4H802 to change C-O-C bond angle -> C4H8O2-D\n",
    "2. Adjust Li ion position for first LINKER run -> C4H8O2-D-Li\n",
    "3. LINKER: C4H8O2-D-Li + CH3O -> C6H14O3\n",
    "4. Remove CH3 groups from C6H14O3 -> C4H8O3\n",
    "5. Adjust Li ion position -> C4H8O3-Li\n",
    "6. LINKER: C4H8O3-Li + C4H8O3-Li -> 18-Crown-6 (Hopefully)"
   ]
  },
  {
   "cell_type": "code",
   "execution_count": null,
   "metadata": {
    "collapsed": true
   },
   "outputs": [],
   "source": [
    "import os\n",
    "\n",
    "from hostdesigner import host_export, linker_export, drive_export, hdo_read, hdo_export, drive_read\n",
    "\n",
    "main_dir = os.getcwd()\n",
    "\n",
    "results_dir = os.path.join(main_dir, 'results')\n",
    "crown_dir = os.path.join(results_dir, 'crown')\n",
    "\n",
    "run1_dir = os.path.join(crown_dir, 'run1')\n",
    "drive1_dir = os.path.join(crown_dir, 'drive1')\n",
    "c12_dir = os.path.join(crown_dir, '12-crown-4')\n",
    "c18_dir = os.path.join(crown_dir, '18-crown-6')\n",
    "\n",
    "#os.makedirs(crown_dir, exist_ok=True)"
   ]
  },
  {
   "cell_type": "code",
   "execution_count": null,
   "metadata": {
    "collapsed": false
   },
   "outputs": [],
   "source": [
    "# RUN 1 - Selected structure: 604\n",
    "\n",
    "hdo_structures = hdo_read(run1_dir, num='all', table=False)\n",
    "# hdo_export(hdo_structures, 604, crown_dir, exp_format='host')"
   ]
  },
  {
   "cell_type": "code",
   "execution_count": null,
   "metadata": {
    "collapsed": false
   },
   "outputs": [],
   "source": [
    "# DRIVE 1 - Selected structure: 96\n",
    "\n",
    "drive_structures = drive_read(drive1_dir, table=False)\n",
    "# hdo_export(drive_structures, 96, drive1_dir, exp_format='xyz')"
   ]
  },
  {
   "cell_type": "code",
   "execution_count": null,
   "metadata": {
    "collapsed": false
   },
   "outputs": [],
   "source": [
    "# RUN2"
   ]
  },
  {
   "cell_type": "code",
   "execution_count": null,
   "metadata": {
    "collapsed": false
   },
   "outputs": [],
   "source": [
    "# 12-Crown-4 Trials\n",
    "hdo_structures = hdo_read(c12_dir, num='all', table=False)\n",
    "\n",
    "# 18-Crown-6 Trials\n",
    "hdo_structures = hdo_read(c18_dir, num='all', table=False)\n",
    "\n",
    "# Export structure\n",
    "hdo_export(hdo_structures, 604, crown_dir)\n",
    "\n",
    "# Export host to xyz\n",
    "host_export(run1_dir, crown_dir)\n",
    "\n",
    "# Structure with minimum number of atoms\n",
    "min_atom_index = hdo_structures['num_atoms'].index(min(hdo_structures['num_atoms']))\n",
    "\n",
    "# Find structure according to linker\n",
    "linker_index = hdo_structures['linker'].index('ethane')"
   ]
  },
  {
   "cell_type": "code",
   "execution_count": null,
   "metadata": {
    "collapsed": false
   },
   "outputs": [],
   "source": []
  },
  {
   "cell_type": "code",
   "execution_count": null,
   "metadata": {
    "collapsed": false
   },
   "outputs": [],
   "source": [
    "def angle_between(C1, C0, C2):\n",
    "    import numpy as np\n",
    "    from math import acos, degrees\n",
    "    coor1 = []\n",
    "    coor2 = []\n",
    "    for c0, c1, c2 in zip(C0, C1, C2):\n",
    "        coor1.append(c1 - c0)\n",
    "        coor2.append(c2 - c0)\n",
    "    \n",
    "    angle = np.dot(coor1, coor2) / (np.linalg.norm(coor1) * np.linalg.norm(coor2))\n",
    "\n",
    "    return degrees(acos(angle))"
   ]
  },
  {
   "cell_type": "code",
   "execution_count": null,
   "metadata": {
    "collapsed": false
   },
   "outputs": [],
   "source": [
    "# 12-crown-4\n",
    "C1 = [7.433, 1.084, 6.204]\n",
    "C2 = [9.307, 0.211, 7.455]\n",
    "C0 = [8.423, 1.266, 7.288]\n",
    "print('12-crown-4   C-O-C angle:', angle_between(C1, C0, C2))\n",
    "\n",
    "# 18-crown-6\n",
    "C1 = [4.314, 6.936, 8.228]\n",
    "C2 = [2.939, 5.039, 7.752]\n",
    "C0 = [4.115, 5.763, 7.438]\n",
    "print('18-crown-6   C-O-C angle:', angle_between(C1, C0, C2))\n",
    "\n",
    "print(drive_structures['drive'][96])\n",
    "\n",
    "# Drive 1 - C-O-C #1\n",
    "C1_1 = drive_structures['coor'][96][1]\n",
    "C2_1 = drive_structures['coor'][96][6]\n",
    "C0_1 = drive_structures['coor'][96][0]\n",
    "print(angle_between(C1_1, C0_1, C2_1))\n",
    "\n",
    "# Drive 1 - C-O-C #2\n",
    "C1_2 = drive_structures['coor'][96][10]\n",
    "C2_2 = drive_structures['coor'][96][5]\n",
    "C0_2 = drive_structures['coor'][96][9]\n",
    "print(angle_between(C1_2, C0_2, C2_2))"
   ]
  },
  {
   "cell_type": "code",
   "execution_count": null,
   "metadata": {
    "collapsed": false
   },
   "outputs": [],
   "source": []
  },
  {
   "cell_type": "code",
   "execution_count": null,
   "metadata": {
    "collapsed": true
   },
   "outputs": [],
   "source": []
  }
 ],
 "metadata": {
  "kernelspec": {
   "display_name": "Python 3",
   "language": "python",
   "name": "python3"
  },
  "language_info": {
   "codemirror_mode": {
    "name": "ipython",
    "version": 3
   },
   "file_extension": ".py",
   "mimetype": "text/x-python",
   "name": "python",
   "nbconvert_exporter": "python",
   "pygments_lexer": "ipython3",
   "version": "3.5.1"
  }
 },
 "nbformat": 4,
 "nbformat_minor": 0
}
