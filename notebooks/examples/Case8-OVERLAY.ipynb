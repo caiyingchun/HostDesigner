{
 "cells": [
  {
   "cell_type": "code",
   "execution_count": 1,
   "metadata": {
    "collapsed": true
   },
   "outputs": [],
   "source": [
    "import os\n",
    "from hostdesigner.host import Host\n",
    "from hostdesigner.hdo import Hdo\n",
    "from hostdesigner.visualize import show\n",
    "from hostdesigner.run import hd_run\n",
    "from hostdesigner.output import read_hdo, find_results\n",
    "from hostdesigner.control import sample"
   ]
  },
  {
   "cell_type": "markdown",
   "metadata": {},
   "source": [
    "## Case 8 (OVERLAY)\n",
    "#### Selecting run directory"
   ]
  },
  {
   "cell_type": "code",
   "execution_count": null,
   "metadata": {
    "collapsed": true
   },
   "outputs": [],
   "source": [
    "# Make sure HostDesigner is installed and hd_dir points to HostDesigner directory\n",
    "hd_dir = os.path.join(os.getcwd(), '../..', 'HD_3.0')\n",
    "ex_dir = os.path.join(hd_dir, '03_Examples')\n",
    "\n",
    "case = 'case8'\n",
    "case_dir = os.path.join(ex_dir, case)"
   ]
  },
  {
   "cell_type": "markdown",
   "metadata": {},
   "source": [
    "#### Visualizing host structure"
   ]
  },
  {
   "cell_type": "code",
   "execution_count": null,
   "metadata": {
    "collapsed": true
   },
   "outputs": [],
   "source": [
    "host1_path = os.path.join(ex_dir, case, 'urea_macro')\n",
    "h1 = Host(host1_path, run_type='OVERLAY')\n",
    "\n",
    "show(h1.color(rename='S'))         # Recolor dummy atoms to yellow"
   ]
  },
  {
   "cell_type": "markdown",
   "metadata": {},
   "source": [
    "#### Control file"
   ]
  },
  {
   "cell_type": "code",
   "execution_count": null,
   "metadata": {
    "collapsed": true
   },
   "outputs": [],
   "source": [
    "control = dict(sample)             # Initialize a sample control object (dictionary)\n",
    "control['run_type'] = 'OVER'       # OVERLAY run\n",
    "control['hosta'] = 'urea_macro'    # Name of host-A structure\n",
    "control['maxrmsd'] = 1.0           # Max RMSD\n",
    "control['drivea'] = True           # Drive host-A structure\n",
    "control['noasym'] = True           # No asymmetric attachment points\n",
    "control['out'] = 'urea_macro'      # Name of output file"
   ]
  },
  {
   "cell_type": "code",
   "execution_count": null,
   "metadata": {
    "collapsed": true
   },
   "outputs": [],
   "source": [
    "hd_run(case_dir, control, verbose=2)"
   ]
  },
  {
   "cell_type": "markdown",
   "metadata": {},
   "source": [
    "## Reading results"
   ]
  },
  {
   "cell_type": "code",
   "execution_count": null,
   "metadata": {
    "collapsed": true
   },
   "outputs": [],
   "source": [
    "results = find_results(case_dir)\n",
    "\n",
    "hdo1 = Hdo(results['hdo'][1]) # out_1.hdo -> sorted by RMSD\n",
    "hdo2 = Hdo(results['hdo'][0]) # out_2.hdo -> sorted by energy"
   ]
  },
  {
   "cell_type": "markdown",
   "metadata": {},
   "source": [
    "#### Listing results sorted by RMSD"
   ]
  },
  {
   "cell_type": "code",
   "execution_count": null,
   "metadata": {
    "collapsed": true
   },
   "outputs": [],
   "source": [
    "hdo1.tabulate(structures=5, tablefmt='pipe')"
   ]
  },
  {
   "cell_type": "markdown",
   "metadata": {},
   "source": [
    "#### Listing results sorted by Energy"
   ]
  },
  {
   "cell_type": "code",
   "execution_count": null,
   "metadata": {
    "collapsed": true
   },
   "outputs": [],
   "source": [
    "hdo2.tabulate(structures=5)"
   ]
  },
  {
   "cell_type": "markdown",
   "metadata": {},
   "source": [
    "#### Visualizing results (5 structures | 5 in x-axis)"
   ]
  },
  {
   "cell_type": "code",
   "execution_count": null,
   "metadata": {
    "collapsed": true
   },
   "outputs": [],
   "source": [
    "hdo1.show(5, div=5, distance=(15, 0), rotate=1, camera='orthographic')"
   ]
  },
  {
   "cell_type": "markdown",
   "metadata": {},
   "source": [
    "#### Sorting structures according to number of atoms"
   ]
  },
  {
   "cell_type": "code",
   "execution_count": null,
   "metadata": {
    "collapsed": true
   },
   "outputs": [],
   "source": [
    "hdo1_sorted = hdo1.sort(var='energy', table=True, structures=5)"
   ]
  },
  {
   "cell_type": "code",
   "execution_count": null,
   "metadata": {
    "collapsed": true
   },
   "outputs": [],
   "source": [
    "hdo1_sorted.show(5, div=5, distance=(15, 0), rotate=1)"
   ]
  },
  {
   "cell_type": "code",
   "execution_count": null,
   "metadata": {
    "collapsed": true
   },
   "outputs": [],
   "source": [
    "hdo1_sorted.tabulate(structures=5, tablefmt='pipe')"
   ]
  },
  {
   "cell_type": "code",
   "execution_count": null,
   "metadata": {
    "collapsed": true
   },
   "outputs": [],
   "source": []
  }
 ],
 "metadata": {
  "kernelspec": {
   "display_name": "Python 3",
   "language": "python",
   "name": "python3"
  },
  "language_info": {
   "codemirror_mode": {
    "name": "ipython",
    "version": 3
   },
   "file_extension": ".py",
   "mimetype": "text/x-python",
   "name": "python",
   "nbconvert_exporter": "python",
   "pygments_lexer": "ipython3",
   "version": "3.5.2"
  }
 },
 "nbformat": 4,
 "nbformat_minor": 1
}
