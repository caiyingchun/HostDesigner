{
 "cells": [
  {
   "cell_type": "code",
   "execution_count": 1,
   "metadata": {
    "collapsed": true
   },
   "outputs": [],
   "source": [
    "import os\n",
    "from hostdesigner.host import Host\n",
    "from hostdesigner.hdo import Hdo\n",
    "from hostdesigner.visualize import show\n",
    "from hostdesigner.run import hd_run\n",
    "from hostdesigner.output import read_hdo, find_results\n",
    "from hostdesigner.control import sample"
   ]
  },
  {
   "cell_type": "markdown",
   "metadata": {},
   "source": [
    "## Case 3 (LINKER - Test Drive)\n",
    "#### Selecting run directory"
   ]
  },
  {
   "cell_type": "code",
   "execution_count": null,
   "metadata": {
    "collapsed": true
   },
   "outputs": [],
   "source": [
    "# Make sure HostDesigner is installed and hd_dir points to HostDesigner directory\n",
    "hd_dir = os.path.join(os.getcwd(), '../..', 'HD_3.0')\n",
    "ex_dir = os.path.join(hd_dir, '03_Examples')\n",
    "\n",
    "case = 'case3'\n",
    "case_dir = os.path.join(ex_dir, case)"
   ]
  },
  {
   "cell_type": "markdown",
   "metadata": {},
   "source": [
    "#### Visualizing host structure"
   ]
  },
  {
   "cell_type": "code",
   "execution_count": null,
   "metadata": {
    "collapsed": true
   },
   "outputs": [],
   "source": [
    "host1_path = os.path.join(case_dir, 'urea1')\n",
    "host2_path = os.path.join(case_dir, 'urea2')\n",
    "h1 = Host(host1_path, run_type='LINKER')\n",
    "h2 = Host(host1_path, run_type='LINKER')\n",
    "\n",
    "show(h1.color(), h2.color())"
   ]
  },
  {
   "cell_type": "markdown",
   "metadata": {},
   "source": [
    "#### Control file"
   ]
  },
  {
   "cell_type": "code",
   "execution_count": null,
   "metadata": {
    "collapsed": true
   },
   "outputs": [],
   "source": [
    "control = dict(sample)            # Initialize a sample control object (dictionary)\n",
    "control['run_type'] = 'LINKER'    # LINKER run\n",
    "control['hosta'] = 'urea1'        # Name of host-A structure\n",
    "control['hostb'] = 'urea2'        # Name of host-B structure\n",
    "control['drivea'] = True          # Drive host-A structure\n",
    "control['driveb'] = True          # Drive host-B structure\n",
    "control['testdrive'] = True       # No asymmetric attachment points\n",
    "control['xyz'] = True             # Max number of rotatable bonds"
   ]
  },
  {
   "cell_type": "code",
   "execution_count": null,
   "metadata": {
    "collapsed": true
   },
   "outputs": [],
   "source": [
    "hd_run(case_dir, control, verbose=1)"
   ]
  },
  {
   "cell_type": "markdown",
   "metadata": {},
   "source": [
    "## Reading results"
   ]
  },
  {
   "cell_type": "code",
   "execution_count": null,
   "metadata": {
    "collapsed": true
   },
   "outputs": [],
   "source": [
    "results = find_results(case_dir)\n",
    "\n",
    "hdo1 = Hdo(results['hdo'][1], drive=True) # out_1.hdo -> angle drive\n",
    "hdo2 = Hdo(results['hdo'][0], drive=True) # out_2.hdo -> distance drive"
   ]
  },
  {
   "cell_type": "markdown",
   "metadata": {},
   "source": [
    "#### Angle drive"
   ]
  },
  {
   "cell_type": "code",
   "execution_count": null,
   "metadata": {
    "collapsed": true
   },
   "outputs": [],
   "source": [
    "hdo1.show(7, div=7, distance=(10,0), rotate=1, color=True)"
   ]
  },
  {
   "cell_type": "markdown",
   "metadata": {},
   "source": [
    "#### Distance drive"
   ]
  },
  {
   "cell_type": "code",
   "execution_count": null,
   "metadata": {
    "collapsed": true
   },
   "outputs": [],
   "source": [
    "hdo2.show(7, div=7, distance=(10,0), rotate=1, color=True)"
   ]
  },
  {
   "cell_type": "code",
   "execution_count": null,
   "metadata": {
    "collapsed": true
   },
   "outputs": [],
   "source": []
  }
 ],
 "metadata": {
  "kernelspec": {
   "display_name": "Python 3",
   "language": "python",
   "name": "python3"
  },
  "language_info": {
   "codemirror_mode": {
    "name": "ipython",
    "version": 3
   },
   "file_extension": ".py",
   "mimetype": "text/x-python",
   "name": "python",
   "nbconvert_exporter": "python",
   "pygments_lexer": "ipython3",
   "version": "3.5.2"
  }
 },
 "nbformat": 4,
 "nbformat_minor": 1
}
