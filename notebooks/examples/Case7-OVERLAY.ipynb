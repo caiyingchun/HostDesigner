{
 "cells": [
  {
   "cell_type": "code",
   "execution_count": 1,
   "metadata": {
    "collapsed": true
   },
   "outputs": [],
   "source": [
    "import os\n",
    "from hostdesigner.host import Host\n",
    "from hostdesigner.visualize import show\n",
    "from hostdesigner.run import hd_run\n",
    "from hostdesigner.output import read_hdo, find_results\n",
    "from hostdesigner.control import sample"
   ]
  },
  {
   "cell_type": "markdown",
   "metadata": {},
   "source": [
    "## Case 7 (OVERLAY)\n",
    "#### Selecting run directory"
   ]
  },
  {
   "cell_type": "code",
   "execution_count": 3,
   "metadata": {
    "collapsed": true
   },
   "outputs": [],
   "source": [
    "# Make sure HostDesigner is installed and hd_dir points to HostDesigner directory\n",
    "hd_dir = os.path.join(os.getcwd(), '../..', 'HD_3.0')\n",
    "ex_dir = os.path.join(hd_dir, '03_Examples')\n",
    "\n",
    "case = 'case7'\n",
    "case_dir = os.path.join(ex_dir, case)"
   ]
  },
  {
   "cell_type": "markdown",
   "metadata": {},
   "source": [
    "#### Visualizing host structure"
   ]
  },
  {
   "cell_type": "code",
   "execution_count": null,
   "metadata": {
    "collapsed": true
   },
   "outputs": [],
   "source": [
    "host1_path = os.path.join(ex_dir, case, 'tetra_inp')\n",
    "h1 = Host(host1_path, run_type='OVERLAY')\n",
    "\n",
    "show(h1)"
   ]
  },
  {
   "cell_type": "markdown",
   "metadata": {},
   "source": [
    "#### Control file"
   ]
  },
  {
   "cell_type": "code",
   "execution_count": null,
   "metadata": {
    "collapsed": true
   },
   "outputs": [],
   "source": [
    "control = dict(sample)            # Initialize a sample control object (dictionary)\n",
    "control['run_type'] = 'OVER'      # OVERLAY run\n",
    "control['hosta'] = 'tetra_inp'    # Name of host-A structure\n",
    "control['drivea'] = True          # Drive host-A structure\n",
    "control['out'] = 'tetra'          # Name of output file\n",
    "control['numview'] = 100          # Max. number of structures to report\n",
    "control['noasym'] = True          # No asymmetric attachment points\n",
    "control['minconn'] = 2            # Min number of atoms between attachment points"
   ]
  },
  {
   "cell_type": "code",
   "execution_count": null,
   "metadata": {
    "collapsed": true
   },
   "outputs": [],
   "source": [
    "hd_run(case_dir, control, verbose=2, archive=True)"
   ]
  },
  {
   "cell_type": "markdown",
   "metadata": {},
   "source": [
    "## Reading results"
   ]
  },
  {
   "cell_type": "code",
   "execution_count": 4,
   "metadata": {
    "collapsed": true
   },
   "outputs": [],
   "source": [
    "results = find_results(case_dir)\n",
    "\n",
    "hdo1 = read_hdo(results['hdo'][1]) # out_1.hdo -> sorted by RMSD\n",
    "hdo2 = read_hdo(results['hdo'][0]) # out_2.hdo -> sorted by energy"
   ]
  },
  {
   "cell_type": "markdown",
   "metadata": {},
   "source": [
    "#### Listing results sorted by RMSD"
   ]
  },
  {
   "cell_type": "code",
   "execution_count": null,
   "metadata": {
    "collapsed": true
   },
   "outputs": [],
   "source": [
    "hdo1.tabulate(structures=5)"
   ]
  },
  {
   "cell_type": "markdown",
   "metadata": {},
   "source": [
    "#### Listing results sorted by Energy"
   ]
  },
  {
   "cell_type": "code",
   "execution_count": null,
   "metadata": {
    "collapsed": true
   },
   "outputs": [],
   "source": [
    "hdo2.tabulate(structures=5)"
   ]
  },
  {
   "cell_type": "markdown",
   "metadata": {},
   "source": [
    "#### Visualizing results (5 structures | 5 in x-axis)"
   ]
  },
  {
   "cell_type": "code",
   "execution_count": 5,
   "metadata": {},
   "outputs": [
    {
     "name": "stderr",
     "output_type": "stream",
     "text": [
      "The installed widget Javascript is the wrong version.\n"
     ]
    }
   ],
   "source": [
    "hdo1.show(5, div=5, distance=(25, 0))"
   ]
  },
  {
   "cell_type": "markdown",
   "metadata": {},
   "source": [
    "#### Sorting structures according to number of atoms"
   ]
  },
  {
   "cell_type": "code",
   "execution_count": null,
   "metadata": {
    "collapsed": true
   },
   "outputs": [],
   "source": [
    "hdo1_sorted = hdo1.sort(var='n_atoms', table=True, structures=5)"
   ]
  },
  {
   "cell_type": "code",
   "execution_count": null,
   "metadata": {
    "collapsed": true
   },
   "outputs": [],
   "source": [
    "hdo1_sorted.show(5, div=5, distance=(25, 0))"
   ]
  },
  {
   "cell_type": "code",
   "execution_count": null,
   "metadata": {
    "collapsed": true
   },
   "outputs": [],
   "source": []
  }
 ],
 "metadata": {
  "kernelspec": {
   "display_name": "Python 3",
   "language": "python",
   "name": "python3"
  },
  "language_info": {
   "codemirror_mode": {
    "name": "ipython",
    "version": 3
   },
   "file_extension": ".py",
   "mimetype": "text/x-python",
   "name": "python",
   "nbconvert_exporter": "python",
   "pygments_lexer": "ipython3",
   "version": "3.5.2"
  }
 },
 "nbformat": 4,
 "nbformat_minor": 1
}
