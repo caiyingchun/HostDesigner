{
 "cells": [
  {
   "cell_type": "markdown",
   "metadata": {},
   "source": [
    "### HostDesigner Crown Ether Trials\n",
    "\n",
    "#### Starting with CH3 - O as input to discover various crown ethers\n",
    "\n",
    "1. Run1 -> CH3O + CH3O -> C4H8O2 (604hdo.xyz)\n",
    "\n",
    "\n",
    "#### 12-Crown-4\n",
    "\n",
    "1. Drive C4H802 to change C-O-C bond angle -> C4H8O2-D\n",
    "2. Remove CH3 groups from C4H8O2-D -> C2H2O2\n",
    "3. Adjust Li ion position -> C2H2O2-Li\n",
    "4. LINKER: C2H2O2-Li + C2H2O2-Li -> 12-Crown-4 (Hopefully)\n",
    "\n",
    "#### 18-Crown-6\n",
    "\n",
    "1. Drive C4H802 to change C-O-C bond angle -> C4H8O2-D\n",
    "2. Adjust Li ion position for first LINKER run -> C4H8O2-D-Li\n",
    "3. LINKER: C4H8O2-D-Li + CH3O -> C6H14O3\n",
    "4. Remove CH3 groups from C6H14O3 -> C4H8O3\n",
    "5. Adjust Li ion position -> C4H8O3-Li\n",
    "6. LINKER: C4H8O3-Li + C4H8O3-Li -> 18-Crown-6 (Hopefully)"
   ]
  },
  {
   "cell_type": "code",
   "execution_count": 6,
   "metadata": {
    "collapsed": false
   },
   "outputs": [],
   "source": [
    "import os\n",
    "\n",
    "from hostdesigner import host_export, linker_export, drive_export, hdo_read, hdo_export, drive_read, hdo_linker\n",
    "from hostdesigner import angle_between\n",
    "\n",
    "main_dir = os.getcwd()\n",
    "\n",
    "overlay_dir = os.path.join(main_dir, 'results', 'crown', 'overlay')\n",
    "\n",
    "overlay_out_dir = os.path.join(overlay_dir, 'out')"
   ]
  },
  {
   "cell_type": "code",
   "execution_count": 9,
   "metadata": {
    "collapsed": false
   },
   "outputs": [
    {
     "name": "stdout",
     "output_type": "stream",
     "text": [
      "Linker                                    RMSD    Structure    Energy    Num Atoms\n",
      "--------------------------------------  ------  -----------  --------  -----------\n",
      "butane                                   0.062            0     1.281           49\n",
      "2,3-dimethylbutane                       0.063            1     0.931           67\n",
      "cis-4,5-dimethylcyclohexene              0.064            2     0.62            73\n",
      "cyclohexene                              0.065            3     0.62            55\n",
      "tetralin                                 0.068            4     0.62            73\n",
      "octahydroanthracene                      0.068            5     0.62           103\n",
      "trans-1,2-dimethylcyclohexane            0.069            6     0.652           79\n",
      "ethane                                   0.069            7     1.709           31\n",
      "trans-4,5-dimethylcyclohexene            0.07             8     0.637           73\n",
      "cyclohexane                              0.073            9     0.62            61\n",
      "butane                                   0.073           10     1.257           49\n",
      "trans-5,6-dimethyl-1,3-cyclohexadiene(   0.076           11     0.62            67\n",
      "cis-1,2-dimethylcyclohexane              0.087           12     0.62            79\n",
      "cis-5,6-dimethyl-1,3-cyclohexadiene      0.088           13     0.62            67\n",
      "cis-bicyclo[4.4.0]decane                 0.09            14     0.62            91\n",
      "cis-bicyclo[4.4.0]decane                 0.092           15     0.62            91\n",
      "cyclopentane                             0.107           16     0.62            52\n",
      "cis,cis-2,4-hexadiene                    0.108           17     0.93            55\n",
      "cis-bicyclo[4.3.0]nonane                 0.108           18     0.62            82\n",
      "methylcyclopentane                       0.11            19     0.62            61\n",
      "cis-1,2-dimethylcyclopentane             0.111           20     0.62            70\n",
      "cis-bicyclo[3.3.0]octane                 0.123           21     0.62            73\n",
      "trans-1,2-dimethylcyclopentane           0.127           22     0.62            70\n",
      "bicyclo[3.3.2]decane                     0.161           23     0.62            91\n",
      "methylcyclopentane                       0.166           24     0.62            61\n",
      "cis-1,3-dimethylcyclopentane             0.188           25     0.62            70\n",
      "bicyclo[3.2.2]nonane                     0.191           26     0.62            82\n",
      "cis,cis-2,4-hexadiene                    0.294           27     1.102           55\n",
      "Linker      RMSD    Structure    Energy    Num Atoms\n",
      "--------  ------  -----------  --------  -----------\n",
      "ethane     0.069            7     1.709           31\n"
     ]
    }
   ],
   "source": [
    "# RUN 3 (CONTROL: LINKER, drivea, driveb, useclass, maxconn=2, numview=1000)\n",
    "# Look at 147, 258, 503!\n",
    "\n",
    "hdo_structures = hdo_read(overlay_dir, num='all', table=True)\n",
    "\n",
    "export_info = [True, overlay_out_dir, 'xyz']\n",
    "\n",
    "linker_structures = hdo_linker(hdo_structures, ['ethane'], export=export_info)"
   ]
  },
  {
   "cell_type": "code",
   "execution_count": 10,
   "metadata": {
    "collapsed": false
   },
   "outputs": [],
   "source": [
    "hdo_export(hdo_structures, 7, overlay_out_dir, name='hosta', exp_format='host')"
   ]
  },
  {
   "cell_type": "code",
   "execution_count": null,
   "metadata": {
    "collapsed": false
   },
   "outputs": [],
   "source": [
    "host_export(run3_dir, run3_out_dir, host='44hosta')"
   ]
  },
  {
   "cell_type": "code",
   "execution_count": null,
   "metadata": {
    "collapsed": true
   },
   "outputs": [],
   "source": []
  }
 ],
 "metadata": {
  "kernelspec": {
   "display_name": "Python 3",
   "language": "python",
   "name": "python3"
  },
  "language_info": {
   "codemirror_mode": {
    "name": "ipython",
    "version": 3
   },
   "file_extension": ".py",
   "mimetype": "text/x-python",
   "name": "python",
   "nbconvert_exporter": "python",
   "pygments_lexer": "ipython3",
   "version": "3.5.1"
  }
 },
 "nbformat": 4,
 "nbformat_minor": 0
}
