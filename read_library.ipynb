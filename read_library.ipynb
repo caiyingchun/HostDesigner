{
 "cells": [
  {
   "cell_type": "code",
   "execution_count": 1,
   "metadata": {
    "collapsed": true
   },
   "outputs": [],
   "source": [
    "import os\n",
    "\n",
    "main_dir = os.getcwd()\n",
    "library_dir = os.path.join(main_dir, 'HD_3.0', '02_DataFiles')\n",
    "library_path = os.path.join(library_dir, 'LIBRARY')\n",
    "library_file = open(library_path, 'r')\n",
    "lib_lines = library_file.readlines()\n",
    "library_file.close()"
   ]
  },
  {
   "cell_type": "code",
   "execution_count": 12,
   "metadata": {
    "collapsed": false
   },
   "outputs": [],
   "source": [
    "connectivity_index = []\n",
    "coordinate_index = []\n",
    "number_of_atoms = []\n",
    "linker_index = []\n",
    "num_of_linkers = 0\n",
    "for line_index, line in enumerate(lib_lines):\n",
    "    if 'CLASS' in line:\n",
    "        linker_index.append(num_of_linkers)\n",
    "        connectivity_index.append(line_index + 2)\n",
    "        coordinate_index.append(line_index + 7)\n",
    "        num_atom = float(lib_lines[line_index + 6].split()[0])\n",
    "        number_of_atoms.append(num_atom)\n",
    "        num_of_linkers += 1"
   ]
  },
  {
   "cell_type": "code",
   "execution_count": 23,
   "metadata": {
    "collapsed": false
   },
   "outputs": [],
   "source": [
    "class Linker:\n",
    "    def __init__(self, linker_index):\n",
    "        linker_info = self.read_linker(linker_index)\n",
    "        self.atom_names = linker_info['atom_names']\n",
    "        self.atom_coors = linker_info['atom_coors']\n",
    "        self.num_of_atoms = linker_info['num_of_atoms']\n",
    "        self.connectivity = linker_info['connectivity']\n",
    "        \n",
    "    def read_linker(self, linker_index):\n",
    "        linker_info = {'atom_names': [], 'atom_coors': [], 'num_of_atoms': 0, 'connectivity': []}\n",
    "        linker_info['num_of_atoms'] = number_of_atoms[linker_index]\n",
    "        return linker_info\n",
    "        "
   ]
  },
  {
   "cell_type": "code",
   "execution_count": 24,
   "metadata": {
    "collapsed": false
   },
   "outputs": [],
   "source": [
    "c = Linker(4)"
   ]
  },
  {
   "cell_type": "code",
   "execution_count": 25,
   "metadata": {
    "collapsed": false
   },
   "outputs": [
    {
     "data": {
      "text/plain": [
       "6.0"
      ]
     },
     "execution_count": 25,
     "metadata": {},
     "output_type": "execute_result"
    }
   ],
   "source": [
    "c.num_of_atoms"
   ]
  },
  {
   "cell_type": "code",
   "execution_count": null,
   "metadata": {
    "collapsed": true
   },
   "outputs": [],
   "source": []
  }
 ],
 "metadata": {
  "kernelspec": {
   "display_name": "Python 3",
   "language": "python",
   "name": "python3"
  },
  "language_info": {
   "codemirror_mode": {
    "name": "ipython",
    "version": 3
   },
   "file_extension": ".py",
   "mimetype": "text/x-python",
   "name": "python",
   "nbconvert_exporter": "python",
   "pygments_lexer": "ipython3",
   "version": "3.5.1"
  }
 },
 "nbformat": 4,
 "nbformat_minor": 0
}
